{
 "cells": [
  {
   "cell_type": "code",
   "execution_count": null,
   "id": "aa3dd058",
   "metadata": {},
   "outputs": [],
   "source": [
    "import qiskit\n",
    "print(qiskit.__version__)"
   ]
  },
  {
   "cell_type": "code",
   "execution_count": null,
   "id": "86c8a1e1",
   "metadata": {},
   "outputs": [],
   "source": [
    "import matplotlib\n",
    "print(matplotlib.__version__)"
   ]
  },
  {
   "cell_type": "code",
   "execution_count": null,
   "id": "a23b0d72",
   "metadata": {
    "scrolled": true
   },
   "outputs": [],
   "source": [
    "from qiskit import QuantumCircuit\n",
    "qc = QuantumCircuit(1)\n",
    "qc.h(0)\n",
    "qc.draw(output='mpl')"
   ]
  },
  {
   "cell_type": "code",
   "execution_count": null,
   "id": "18428d5a",
   "metadata": {
    "scrolled": true
   },
   "outputs": [],
   "source": [
    "from qiskit import QuantumCircuit, Aer, transpile, assemble, execute\n",
    "from qiskit.visualization import plot_histogram\n",
    "import matplotlib.pyplot as plt\n",
    "\n",
    "# Create a quantum circuit with 2 qubits\n",
    "qc = QuantumCircuit(2)\n",
    "qc.h(0)  # Apply Hadamard gate to qubit 0\n",
    "qc.cx(0, 1)  # Apply CNOT gate (entangles qubit 0 and 1)\n",
    "qc.measure_all()\n",
    "\n",
    "# Visualize the circuit\n",
    "qc.draw(output=\"mpl\")\n",
    "\n"
   ]
  },
  {
   "cell_type": "code",
   "execution_count": null,
   "id": "346401ef",
   "metadata": {},
   "outputs": [],
   "source": [
    "\n",
    "# Simulate the circuit\n",
    "simulator = Aer.get_backend(\"qasm_simulator\")\n",
    "compiled_circuit = transpile(qc, simulator)\n",
    "qobj = assemble(compiled_circuit)\n",
    "result = execute(qc, simulator).result()\n",
    "\n",
    "# Show the results\n",
    "counts = result.get_counts()\n",
    "plot_histogram(counts)\n"
   ]
  },
  {
   "cell_type": "code",
   "execution_count": null,
   "id": "34324f36",
   "metadata": {},
   "outputs": [],
   "source": []
  }
 ],
 "metadata": {
  "kernelspec": {
   "display_name": "Python 3 (ipykernel)",
   "language": "python",
   "name": "python3"
  },
  "language_info": {
   "codemirror_mode": {
    "name": "ipython",
    "version": 3
   },
   "file_extension": ".py",
   "mimetype": "text/x-python",
   "name": "python",
   "nbconvert_exporter": "python",
   "pygments_lexer": "ipython3",
   "version": "3.7.17"
  }
 },
 "nbformat": 4,
 "nbformat_minor": 5
}
